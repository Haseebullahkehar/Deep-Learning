{
  "cells": [
    {
      "cell_type": "markdown",
      "metadata": {
        "id": "rpuXQjVZemuh"
      },
      "source": [
        "# **Free AI Course**"
      ]
    },
    {
      "cell_type": "markdown",
      "metadata": {
        "id": "mdwh1s8Pevqk"
      },
      "source": [
        "## **Standard (Fully Connected) Neural Network**\n",
        "\n",
        "we will learn the following:\n",
        "\n",
        "1.Loading dataset\\\n",
        "2.Preprocessing the dataset\\\n",
        "3.Defination of Neural Network\\\n",
        "4.Training a Neural Network\\\n",
        "5.Testing a Neural Network"
      ]
    },
    {
      "cell_type": "markdown",
      "metadata": {
        "id": "kNZK7wURfytS"
      },
      "source": [
        "**Loading Required packages and Data**"
      ]
    },
    {
      "cell_type": "code",
      "execution_count": 2,
      "metadata": {
        "id": "-8niNkq1eGbi"
      },
      "outputs": [],
      "source": [
        "# Load Data and plot Data\n",
        "# from tensorflow.keras.datasets import.mnist\n",
        "import tensorflow as tf  # framework for Deep learning\n",
        "from tensorflow.keras import layers, models\n",
        "import matplotlib.pyplot as plt\n",
        "from tensorflow.keras.models import Sequential\n",
        "from tensorflow.keras.layers import Dense\n",
        "from tensorflow.keras.utils import to_categorical\n",
        "\n",
        "# import tensorflow as tf\n",
        "# from tensorflow.keras import layers, models\n",
        "# import matplotlib.pyplot as plt"
      ]
    },
    {
      "cell_type": "code",
      "execution_count": 3,
      "metadata": {
        "id": "W8WEHjcuh1p8"
      },
      "outputs": [],
      "source": [
        "# Load the Fashion MNIST dataset\n",
        "fashion_mnist = tf.keras.datasets.fashion_mnist\n"
      ]
    },
    {
      "cell_type": "markdown",
      "metadata": {
        "id": "GkszwHn8iadW"
      },
      "source": [
        "**Data Splitting**"
      ]
    },
    {
      "cell_type": "code",
      "execution_count": 4,
      "metadata": {
        "colab": {
          "base_uri": "https://localhost:8080/"
        },
        "id": "kxal9ZIIiZa9",
        "outputId": "d39954d6-3f72-44a9-8467-86009c287063"
      },
      "outputs": [
        {
          "name": "stdout",
          "output_type": "stream",
          "text": [
            "Downloading data from https://storage.googleapis.com/tensorflow/tf-keras-datasets/train-labels-idx1-ubyte.gz\n",
            "29515/29515 [==============================] - 0s 0us/step\n",
            "Downloading data from https://storage.googleapis.com/tensorflow/tf-keras-datasets/train-images-idx3-ubyte.gz\n",
            "26421880/26421880 [==============================] - 0s 0us/step\n",
            "Downloading data from https://storage.googleapis.com/tensorflow/tf-keras-datasets/t10k-labels-idx1-ubyte.gz\n",
            "5148/5148 [==============================] - 0s 0us/step\n",
            "Downloading data from https://storage.googleapis.com/tensorflow/tf-keras-datasets/t10k-images-idx3-ubyte.gz\n",
            "4422102/4422102 [==============================] - 0s 0us/step\n"
          ]
        }
      ],
      "source": [
        "# splitting the data into test and train set\n",
        "(X_train, Y_train), (X_test, Y_test) = fashion_mnist.load_data()"
      ]
    },
    {
      "cell_type": "markdown",
      "metadata": {
        "id": "mU5s0dKUjhFg"
      },
      "source": [
        "**Dataset Display**"
      ]
    },
    {
      "cell_type": "code",
      "execution_count": 5,
      "metadata": {
        "colab": {
          "base_uri": "https://localhost:8080/",
          "height": 726
        },
        "id": "mumotwbdjk1Z",
        "outputId": "100e3be4-65db-4190-d984-e2ca160b99da"
      },
      "outputs": [
        {
          "data": {
            "image/png": "[encoded data removed]",
            "text/plain": [
              "<Figure size 2000x400 with 1 Axes>"
            ]
          },
          "metadata": {},
          "output_type": "display_data"
        },
        {
          "data": {
            "image/png": "[encoded data removed]",
            "text/plain": [
              "<Figure size 640x480 with 1 Axes>"
            ]
          },
          "metadata": {},
          "output_type": "display_data"
        },
        {
          "data": {
            "image/png": "[encoded data removed]",
            "text/plain": [
              "<Figure size 640x480 with 1 Axes>"
            ]
          },
          "metadata": {},
          "output_type": "display_data"
        },
        {
          "data": {
            "image/png": "[encoded data removed]",
            "text/plain": [
              "<Figure size 640x480 with 1 Axes>"
            ]
          },
          "metadata": {},
          "output_type": "display_data"
        },
        {
          "data": {
            "image/png": "[encoded data removed]",
            "text/plain": [
              "<Figure size 640x480 with 1 Axes>"
            ]
          },
          "metadata": {},
          "output_type": "display_data"
        },
        {
          "data": {
            "image/png": "[encoded data removed]",
            "text/plain": [
              "<Figure size 640x480 with 1 Axes>"
            ]
          },
          "metadata": {},
          "output_type": "display_data"
        },
        {
          "data": {
            "image/png": "[encoded data removed]",
            "text/plain": [
              "<Figure size 640x480 with 1 Axes>"
            ]
          },
          "metadata": {},
          "output_type": "display_data"
        },
        {
          "data": {
            "image/png": "[encoded data removed]",
            "text/plain": [
              "<Figure size 640x480 with 1 Axes>"
            ]
          },
          "metadata": {},
          "output_type": "display_data"
        },
        {
          "data": {
            "image/png": "[encoded data removed]",
            "text/plain": [
              "<Figure size 640x480 with 1 Axes>"
            ]
          },
          "metadata": {},
          "output_type": "display_data"
        },
        {
          "data": {
            "image/png": "[encoded data removed]",
            "text/plain": [
              "<Figure size 640x480 with 1 Axes>"
            ]
          },
          "metadata": {},
          "output_type": "display_data"
        }
      ],
      "source": [
        "import matplotlib.pyplot as plt\n",
        "\n",
        "# Number of images to display\n",
        "n = 10\n",
        "\n",
        "# Create a figure to display images\n",
        "plt.figure(figsize=(20, 4))\n",
        "\n",
        "# Loop through the first 'n' images\n",
        "for i in range(n):\n",
        "  # Create a subplot within the figure\n",
        "  ax = plt.subplot(2, n, i + 1)\n",
        "\n",
        "  # Display the origional image\n",
        "  plt.imshow(X_test[i].reshape(28, 28))\n",
        "\n",
        "  # Set colormap to grayscale\n",
        "  plt.gray()\n",
        "\n",
        "  # Hide x_axis and y_axis labels and ticks\n",
        "  ax.get_xaxis().set_visible(False)\n",
        "  ax.get_yaxis().set_visible(False)\n",
        "\n",
        "  # Show the figure with the images\n",
        "  plt.show()\n",
        "\n",
        "  # Close the figure\n",
        "  plt.close()\n"
      ]
    },
    {
      "cell_type": "markdown",
      "metadata": {
        "id": "t139rIvPlUIc"
      },
      "source": [
        "**Flattening the images**"
      ]
    },
    {
      "cell_type": "code",
      "execution_count": 6,
      "metadata": {
        "colab": {
          "base_uri": "https://localhost:8080/"
        },
        "id": "Giezxy4XlTwz",
        "outputId": "6fef5f27-86c3-458a-c0b3-a5e2a77faed7"
      },
      "outputs": [
        {
          "name": "stdout",
          "output_type": "stream",
          "text": [
            "Previous X_train shape: (60000, 28, 28) \n",
            "Previous Y_train shape: (60000,)\n"
          ]
        }
      ],
      "source": [
        "# Print the shapes of the original training data and labels\n",
        "print(\"Previous X_train shape: {} \\nPrevious Y_train shape: {}\".format(X_train.shape, Y_train.shape))\n",
        "\n",
        "# Reshape training and testing data to a flat format (flattening the images)\n",
        "X_train = X_train.reshape(60000, 784)\n",
        "X_test = X_test.reshape(10000, 784)\n"
      ]
    },
    {
      "cell_type": "markdown",
      "metadata": {
        "id": "zjfwDgkjoktd"
      },
      "source": [
        "# **Min-Max Scaling**"
      ]
    },
    {
      "cell_type": "code",
      "execution_count": 7,
      "metadata": {
        "id": "6WvEmJhbnXmZ"
      },
      "outputs": [],
      "source": [
        "# Convert the data type of the images to float32\n",
        "X_train = X_train.astype('float32')\n",
        "X_test = X_test.astype('float32')\n",
        "\n",
        "# Normalize the pixel values to a range between 0 and 1 #zero is for Black #1 for white image\n",
        "X_train /= 255\n",
        "X_test /=  255"
      ]
    },
    {
      "cell_type": "markdown",
      "metadata": {
        "id": "wMl32dwapZ9J"
      },
      "source": [
        "**Processing the Target Variable**"
      ]
    },
    {
      "cell_type": "code",
      "execution_count": 8,
      "metadata": {
        "colab": {
          "base_uri": "https://localhost:8080/"
        },
        "id": "IHJN_lpjpgCX",
        "outputId": "dfcc8886-d8f8-464f-faab-ed30a85a4ef3"
      },
      "outputs": [
        {
          "name": "stdout",
          "output_type": "stream",
          "text": [
            "New X_train shape:(60000, 784) \n",
            "New Y_train shape;(60000, 10)\n"
          ]
        }
      ],
      "source": [
        "# Number of classed in the dataset\n",
        "classes = 10\n",
        "# Convert the labels to one-hot encoded format\n",
        "Y_train = to_categorical(Y_train, classes)\n",
        "Y_test = to_categorical(Y_test, classes)\n",
        "\n",
        "# Print the shapes of the preprocessed training data and labels\n",
        "print(\"New X_train shape:{} \\nNew Y_train shape;{}\".format(X_train.shape, Y_train.shape))\n",
        "\n"
      ]
    },
    {
      "cell_type": "markdown",
      "metadata": {
        "id": "ujCVxovgv6J1"
      },
      "source": [
        "**Setting up Hyper-parameters**"
      ]
    },
    {
      "cell_type": "code",
      "execution_count": 9,
      "metadata": {
        "id": "vZlfD9rOqQVI"
      },
      "outputs": [],
      "source": [
        "# before the input size for each data sample (e.g., image pixels)\n",
        "input_size = 784\n",
        "\n",
        "# Specify the number of data samples to process in each batch\n",
        "batch_size = 200\n",
        "\n",
        "# Define the number of neurons in the first hidden layer\n",
        "hidden1 = 400\n",
        "# Define the number of neurons in the second layer\n",
        "hidden2 = 20\n",
        "\n",
        "# Define the total number of classes/categories in the dataset\n",
        "classes = 10\n",
        "\n",
        "# Set the number of complete passes through the dataset during training\n",
        "epochs = 10\n"
      ]
    },
    {
      "cell_type": "markdown",
      "metadata": {
        "id": "gd0xpm6ZxNXv"
      },
      "source": [
        "**Bulding the FCN Model**"
      ]
    },
    {
      "cell_type": "code",
      "execution_count": 12,
      "metadata": {
        "colab": {
          "base_uri": "https://localhost:8080/"
        },
        "id": "5DPv-PrYxDTY",
        "outputId": "6c394a6a-83ef-49bd-8331-bd4afb5260ca"
      },
      "outputs": [
        {
          "name": "stdout",
          "output_type": "stream",
          "text": [
            "Model: \"sequential_1\"\n",
            "_________________________________________________________________\n",
            " Layer (type)                Output Shape              Param #   \n",
            "=================================================================\n",
            " dense_3 (Dense)             (None, 400)               314000    \n",
            "                                                                 \n",
            " dense_4 (Dense)             (None, 20)                8020      \n",
            "                                                                 \n",
            " dense_5 (Dense)             (None, 10)                210       \n",
            "                                                                 \n",
            "=================================================================\n",
            "Total params: 322230 (1.23 MB)\n",
            "Trainable params: 322230 (1.23 MB)\n",
            "Non-trainable params: 0 (0.00 Byte)\n",
            "_________________________________________________________________\n"
          ]
        }
      ],
      "source": [
        "# 4. Build the model\n",
        "\n",
        "# Create a sequential model, which allows us to build a neural network layer by layer\n",
        "model = Sequential()\n",
        "\n",
        "# Add the first hidden layer with 'hidden1' neurons, using ReLU activation function\n",
        "# The 'input_dim' specifies the input size for this layer\n",
        "model.add(Dense(hidden1, input_dim=input_size, activation='relu'))\n",
        "\n",
        "# Add the second hidden layer with 'hidden2' neurons, also using ReLU activation function\n",
        "model.add(Dense(hidden2, activation='relu'))\n",
        "\n",
        "# Add the output layer with 'classes' neurons, using softmax activation function\n",
        "# Softmax activation ensures that the output values represent probabilities of each class\n",
        "model.add(Dense(classes,activation='softmax'))\n",
        "\n",
        "# Compilation\n",
        "\n",
        "# compile the model by specifying the loss function, optimizer, and evaluation metrics\n",
        "model.compile(loss='categorical_crossentrophy',\n",
        "              metrics=['accuracy'], optimizer='sgd')\n",
        "\n",
        "# Display the summary of the model architecture , showing the layers and parameter counts\n",
        "model.summary()\n"
      ]
    },
    {
      "cell_type": "markdown",
      "metadata": {
        "id": "NkDELcuiSNvz"
      },
      "source": [
        "**Training The Model**"
      ]
    },
    {
      "cell_type": "code",
      "execution_count": 15,
      "metadata": {
        "colab": {
          "base_uri": "https://localhost:8080/"
        },
        "id": "6EeqnMbx0SDQ",
        "outputId": "edb0c550-c6fd-4155-8b6c-6ad007ac5e4b"
      },
      "outputs": [
        {
          "name": "stdout",
          "output_type": "stream",
          "text": [
            "Epoch 1/10\n",
            "469/469 [==============================] - 2s 3ms/step - loss: 0.0089 - accuracy: 0.9979\n",
            "Epoch 2/10\n",
            "469/469 [==============================] - 3s 6ms/step - loss: 0.0044 - accuracy: 0.9992\n",
            "Epoch 3/10\n",
            "469/469 [==============================] - 3s 6ms/step - loss: 0.0036 - accuracy: 0.9993\n",
            "Epoch 4/10\n",
            "469/469 [==============================] - 3s 6ms/step - loss: 0.0080 - accuracy: 0.9976\n",
            "Epoch 5/10\n",
            "469/469 [==============================] - 2s 5ms/step - loss: 0.0074 - accuracy: 0.9980\n",
            "Epoch 6/10\n",
            "469/469 [==============================] - 2s 5ms/step - loss: 0.0042 - accuracy: 0.9990\n",
            "Epoch 7/10\n",
            "469/469 [==============================] - 2s 5ms/step - loss: 0.0014 - accuracy: 0.9998\n",
            "Epoch 8/10\n",
            "469/469 [==============================] - 4s 9ms/step - loss: 6.9783e-04 - accuracy: 0.9999\n",
            "Epoch 9/10\n",
            "469/469 [==============================] - 2s 5ms/step - loss: 3.8363e-04 - accuracy: 1.0000\n",
            "Epoch 10/10\n",
            "469/469 [==============================] - 2s 5ms/step - loss: 0.0137 - accuracy: 0.9954\n",
            "Model training took 41.95144200325012 secs\n"
          ]
        }
      ],
      "source": [
        "# Record the current time to measure training time\n",
        "tic = time()\n",
        "\n",
        "# Fit the model on the training data\n",
        "model.fit(X_train, Y_train, batch_size=batch_size, epochs=epochs, verbose=1)\n",
        "\n",
        "# Record the time after model training\n",
        "toc = time()\n",
        "\n",
        "# Calculate and print the time taken for model training\n",
        "print(\"Model training took {} secs\".format(toc - tic))"
      ]
    },
    {
      "cell_type": "markdown",
      "metadata": {
        "id": "3X8crRcEXsmK"
      },
      "source": [
        "**Testing The Model**"
      ]
    },
    {
      "cell_type": "code",
      "execution_count": 16,
      "metadata": {
        "colab": {
          "base_uri": "https://localhost:8080/"
        },
        "id": "EbikTuu1Xwwx",
        "outputId": "8aaa881a-bf53-4b37-f554-c4a1b4087a3d"
      },
      "outputs": [
        {
          "name": "stdout",
          "output_type": "stream",
          "text": [
            "313/313 [==============================] - 1s 2ms/step - loss: 0.0886 - accuracy: 0.9778\n",
            "Test accuracy: 97.78%\n"
          ]
        }
      ],
      "source": [
        "# Evaluate the model on the test data\n",
        "test_loss, test_acc = model.evaluate(X_test, Y_test, verbose=1)\n",
        "print(\"Test accuracy: {:.2f}%\".format(test_acc * 100))"
      ]
    },
    {
      "cell_type": "markdown",
      "metadata": {
        "id": "mVwuiUPrX6bb"
      },
      "source": [
        "----------------------------------------------------------------------------------"
      ]
    },
    {
      "cell_type": "markdown",
      "metadata": {
        "id": "yeVpAYuZYB-f"
      },
      "source": [
        "**Whole code in one Cell**"
      ]
    },
    {
      "cell_type": "code",
      "execution_count": 14,
      "metadata": {
        "colab": {
          "base_uri": "https://localhost:8080/"
        },
        "id": "RjB7sFMGTaXE",
        "outputId": "0781b420-ca79-417b-b1b0-baf1c1d770c8"
      },
      "outputs": [
        {
          "name": "stdout",
          "output_type": "stream",
          "text": [
            "Downloading data from https://storage.googleapis.com/tensorflow/tf-keras-datasets/mnist.npz\n",
            "11490434/11490434 [==============================] - 1s 0us/step\n",
            "Previous X_train shape: (60000, 28, 28) \n",
            "Previous Y_train shape: (60000,)\n",
            "Epoch 1/10\n",
            "469/469 [==============================] - 7s 7ms/step - loss: 0.2690 - accuracy: 0.9241\n",
            "Epoch 2/10\n",
            "469/469 [==============================] - 3s 6ms/step - loss: 0.1088 - accuracy: 0.9679\n",
            "Epoch 3/10\n",
            "469/469 [==============================] - 3s 7ms/step - loss: 0.0698 - accuracy: 0.9796\n",
            "Epoch 4/10\n",
            "469/469 [==============================] - 1s 3ms/step - loss: 0.0491 - accuracy: 0.9860\n",
            "Epoch 5/10\n",
            "469/469 [==============================] - 2s 5ms/step - loss: 0.0359 - accuracy: 0.9896\n",
            "Epoch 6/10\n",
            "469/469 [==============================] - 3s 7ms/step - loss: 0.0274 - accuracy: 0.9925\n",
            "Epoch 7/10\n",
            "469/469 [==============================] - 3s 6ms/step - loss: 0.0195 - accuracy: 0.9949\n",
            "Epoch 8/10\n",
            "469/469 [==============================] - 3s 6ms/step - loss: 0.0154 - accuracy: 0.9959\n",
            "Epoch 9/10\n",
            "469/469 [==============================] - 4s 8ms/step - loss: 0.0112 - accuracy: 0.9973\n",
            "Epoch 10/10\n",
            "469/469 [==============================] - 3s 7ms/step - loss: 0.0104 - accuracy: 0.9974\n",
            "Model training took 44.74344849586487 secs\n",
            "313/313 [==============================] - 1s 3ms/step - loss: 0.0637 - accuracy: 0.9793\n",
            "Test accuracy: 97.93%\n"
          ]
        }
      ],
      "source": [
        "# Import necessary libraries\n",
        "import numpy as np\n",
        "from time import time\n",
        "from keras.models import Sequential\n",
        "from keras.layers import Dense\n",
        "from keras.datasets import mnist\n",
        "from keras.utils import to_categorical\n",
        "\n",
        "# Load MNIST dataset\n",
        "(X_train, Y_train), (X_test, Y_test) = mnist.load_data()\n",
        "\n",
        "# Print the shapes of the original training data and labels\n",
        "print(\"Previous X_train shape: {} \\nPrevious Y_train shape: {}\".format(X_train.shape, Y_train.shape))\n",
        "\n",
        "# Reshape training and testing data to a flat format (flattening the images)\n",
        "X_train = X_train.reshape(60000, 784).astype('float32') / 255\n",
        "X_test = X_test.reshape(10000, 784).astype('float32') / 255\n",
        "\n",
        "# Convert labels to categorical one-hot encoding\n",
        "Y_train = to_categorical(Y_train, 10)\n",
        "Y_test = to_categorical(Y_test, 10)\n",
        "\n",
        "# Define the model\n",
        "model = Sequential([\n",
        "    Dense(512, activation='relu', input_shape=(784,)),\n",
        "    Dense(10, activation='softmax')\n",
        "])\n",
        "\n",
        "# Compile the model\n",
        "model.compile(optimizer='adam', loss='categorical_crossentropy', metrics=['accuracy'])\n",
        "\n",
        "# Set the hyperparameters\n",
        "batch_size = 128\n",
        "epochs = 10\n",
        "\n",
        "# Record the current time to measure training time\n",
        "tic = time()\n",
        "\n",
        "# Fit the model on the training data\n",
        "model.fit(X_train, Y_train, batch_size=batch_size, epochs=epochs, verbose=1)\n",
        "\n",
        "# Record the time after model training\n",
        "toc = time()\n",
        "\n",
        "# Calculate and print the time taken for model training\n",
        "print(\"Model training took {} secs\".format(toc - tic))\n",
        "\n",
        "# Evaluate the model on the test data\n",
        "test_loss, test_acc = model.evaluate(X_test, Y_test, verbose=1)\n",
        "print(\"Test accuracy: {:.2f}%\".format(test_acc * 100))\n"
      ]
    }
  ],
  "metadata": {
    "accelerator": "GPU",
    "colab": {
      "gpuType": "T4",
      "provenance": []
    },
    "kernelspec": {
      "display_name": "Python 3",
      "name": "python3"
    },
    "language_info": {
      "name": "python"
    }
  },
  "nbformat": 4,
  "nbformat_minor": 0
}
