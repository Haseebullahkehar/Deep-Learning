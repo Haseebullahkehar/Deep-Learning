{
  "cells": [
    {
      "cell_type": "markdown",
      "metadata": {
        "id": "zJybod4S15zm"
      },
      "source": [
        "**Training of Neural Networks on Titanic Dataset**"
      ]
    },
    {
      "cell_type": "markdown",
      "metadata": {
        "id": "gmVqfwQK2dLZ"
      },
      "source": [
        "#**Step-1: Importing necessary libraries**"
      ]
    },
    {
      "cell_type": "code",
      "execution_count": 1,
      "metadata": {
        "id": "tD2nTuWR12C6"
      },
      "outputs": [],
      "source": [
        "import pandas as pd\n",
        "from sklearn.model_selection import train_test_split\n",
        "from sklearn.preprocessing import StandardScaler, LabelEncoder\n",
        "from tensorflow.keras.models import Sequential\n",
        "from tensorflow.keras.layers import Dense\n",
        "from tensorflow.keras.callbacks import EarlyStopping\n",
        "import matplotlib.pyplot as plt\n"
      ]
    },
    {
      "cell_type": "markdown",
      "metadata": {
        "id": "oOtpXLTN2q81"
      },
      "source": [
        "#**Step-2: Load and preprocess the titanic dataset**"
      ]
    },
    {
      "cell_type": "code",
      "execution_count": 6,
      "metadata": {
        "id": "z92niCxU2Uzq"
      },
      "outputs": [],
      "source": [
        "# Load the dataset\n",
        "\n",
        "data = pd.read_csv('https://raw.githubusercontent.com/datasciencedojo/datasets/master/titanic.csv')\n",
        "\n",
        "# Drop unnecessary columns\n",
        "data = data.drop(columns=['PassengerId', 'Name', 'Ticket', 'Cabin'])\n",
        "\n",
        "# Handle missing values\n",
        "data['Age'].fillna(data['Age'].mean(), inplace=True)\n",
        "data['Embarked'].fillna(data['Embarked'].mode()[0], inplace=True)\n",
        "\n",
        "# Convert categorical features to numerical\n",
        "data['Sex'] = LabelEncoder().fit_transform(data['Sex'])\n",
        "data['Embarked'] = LabelEncoder().fit_transform(data['Embarked'])\n",
        "\n",
        "# Split the data into features and target\n",
        "X = data.drop(columns=['Survived'])\n",
        "y = data['Survived']\n",
        "\n",
        "# Split the data into training and testing sets\n",
        "X_train, X_test, y_train, y_test = train_test_split(X, y, test_size=0.2, random_state=42)\n",
        "\n",
        "# Standardize the features\n",
        "scaler = StandardScaler()\n",
        "X_train = scaler.fit_transform(X_train)\n",
        "X_test = scaler.transform(X_test)\n"
      ]
    },
    {
      "cell_type": "markdown",
      "metadata": {
        "id": "2R3AVI-s23Eb"
      },
      "source": [
        "#**Step-3: Build the Neural Network model**"
      ]
    },
    {
      "cell_type": "code",
      "execution_count": 7,
      "metadata": {
        "id": "b6O3nBTe3A4_"
      },
      "outputs": [],
      "source": [
        "model = Sequential([\n",
        "    Dense(64, input_dim=X_train.shape[1], activation='relu'),  # First hidden layer with 64 neurons and ReLU activation\n",
        "    Dense(32, activation='relu'),                             # Second hidden layer with 32 neurons and ReLU activation\n",
        "    Dense(1, activation='sigmoid')                            # Output layer with 1 neuron and sigmoid activation for binary classification\n",
        "])\n"
      ]
    },
    {
      "cell_type": "markdown",
      "metadata": {
        "id": "iuHygApC3F2m"
      },
      "source": [
        "#**Step-4: Compile the model**"
      ]
    },
    {
      "cell_type": "code",
      "execution_count": 8,
      "metadata": {
        "id": "iFKT5ZNs3JBH"
      },
      "outputs": [],
      "source": [
        "model.compile(optimizer='adam',               # Use the Adam optimizer\n",
        "              loss='binary_crossentropy',     # Use binary crossentropy as the loss function\n",
        "              metrics=['accuracy'])           # Track accuracy during training\n"
      ]
    },
    {
      "cell_type": "markdown",
      "metadata": {
        "id": "l1IEGtHI3KVz"
      },
      "source": [
        "#**Step-5: Define EarlyStopping Function**\n",
        "\n",
        "**Callback functions, particularly the `EarlyStopping` callback, are vital tools in training neural networks. They monitor the model's performance on a validation set during training and can automatically stop the training process if the model's performance stops improving, which helps in preventing overfitting. The `EarlyStopping` callback is especially useful as it allows specifying a patience parameter, which is the number of epochs to wait for an improvement before halting the training. By stopping early, it not only saves computational resources but also helps in maintaining the model's ability to generalize well to new, unseen data.**"
      ]
    },
    {
      "cell_type": "code",
      "execution_count": 9,
      "metadata": {
        "id": "J9cU7qqA3Wcm"
      },
      "outputs": [],
      "source": [
        "early_stopping = EarlyStopping(monitor='val_loss', patience=10, restore_best_weights=True)\n"
      ]
    },
    {
      "cell_type": "markdown",
      "metadata": {
        "id": "QcFfkhhc3YnC"
      },
      "source": [
        "#**Step-6: Train the model with EarlyStopping**"
      ]
    },
    {
      "cell_type": "code",
      "execution_count": 10,
      "metadata": {
        "colab": {
          "base_uri": "https://localhost:8080/"
        },
        "id": "9CJz_YP53ghZ",
        "outputId": "3f8145c2-634a-4caf-827d-c3258e77ef8e"
      },
      "outputs": [
        {
          "name": "stdout",
          "output_type": "stream",
          "text": [
            "Epoch 1/100\n",
            "18/18 [==============================] - 6s 59ms/step - loss: 0.6518 - accuracy: 0.6854 - val_loss: 0.5827 - val_accuracy: 0.8112\n",
            "Epoch 2/100\n",
            "18/18 [==============================] - 0s 5ms/step - loss: 0.5597 - accuracy: 0.7909 - val_loss: 0.4934 - val_accuracy: 0.8252\n",
            "Epoch 3/100\n",
            "18/18 [==============================] - 0s 5ms/step - loss: 0.4950 - accuracy: 0.7996 - val_loss: 0.4321 - val_accuracy: 0.8182\n",
            "Epoch 4/100\n",
            "18/18 [==============================] - 0s 5ms/step - loss: 0.4570 - accuracy: 0.8049 - val_loss: 0.4054 - val_accuracy: 0.8322\n",
            "Epoch 5/100\n",
            "18/18 [==============================] - 0s 6ms/step - loss: 0.4400 - accuracy: 0.8137 - val_loss: 0.3968 - val_accuracy: 0.8322\n",
            "Epoch 6/100\n",
            "18/18 [==============================] - 0s 6ms/step - loss: 0.4288 - accuracy: 0.8172 - val_loss: 0.3950 - val_accuracy: 0.8182\n",
            "Epoch 7/100\n",
            "18/18 [==============================] - 0s 5ms/step - loss: 0.4217 - accuracy: 0.8172 - val_loss: 0.3929 - val_accuracy: 0.8252\n",
            "Epoch 8/100\n",
            "18/18 [==============================] - 0s 5ms/step - loss: 0.4159 - accuracy: 0.8207 - val_loss: 0.3930 - val_accuracy: 0.8252\n",
            "Epoch 9/100\n",
            "18/18 [==============================] - 0s 5ms/step - loss: 0.4121 - accuracy: 0.8207 - val_loss: 0.3897 - val_accuracy: 0.8322\n",
            "Epoch 10/100\n",
            "18/18 [==============================] - 0s 18ms/step - loss: 0.4093 - accuracy: 0.8313 - val_loss: 0.3913 - val_accuracy: 0.8322\n",
            "Epoch 11/100\n",
            "18/18 [==============================] - 0s 5ms/step - loss: 0.4042 - accuracy: 0.8278 - val_loss: 0.3951 - val_accuracy: 0.8252\n",
            "Epoch 12/100\n",
            "18/18 [==============================] - 0s 5ms/step - loss: 0.3997 - accuracy: 0.8348 - val_loss: 0.3916 - val_accuracy: 0.8322\n",
            "Epoch 13/100\n",
            "18/18 [==============================] - 0s 5ms/step - loss: 0.3983 - accuracy: 0.8366 - val_loss: 0.3945 - val_accuracy: 0.8252\n",
            "Epoch 14/100\n",
            "18/18 [==============================] - 0s 6ms/step - loss: 0.3950 - accuracy: 0.8401 - val_loss: 0.3926 - val_accuracy: 0.8392\n",
            "Epoch 15/100\n",
            "18/18 [==============================] - 0s 5ms/step - loss: 0.3933 - accuracy: 0.8418 - val_loss: 0.3927 - val_accuracy: 0.8322\n",
            "Epoch 16/100\n",
            "18/18 [==============================] - 0s 5ms/step - loss: 0.3917 - accuracy: 0.8418 - val_loss: 0.3980 - val_accuracy: 0.8322\n",
            "Epoch 17/100\n",
            "18/18 [==============================] - 0s 5ms/step - loss: 0.3883 - accuracy: 0.8383 - val_loss: 0.3982 - val_accuracy: 0.8322\n",
            "Epoch 18/100\n",
            "18/18 [==============================] - 0s 17ms/step - loss: 0.3866 - accuracy: 0.8418 - val_loss: 0.3960 - val_accuracy: 0.8322\n",
            "Epoch 19/100\n",
            "18/18 [==============================] - 1s 51ms/step - loss: 0.3855 - accuracy: 0.8453 - val_loss: 0.3939 - val_accuracy: 0.8322\n"
          ]
        }
      ],
      "source": [
        "history = model.fit(X_train, y_train, epochs=100, batch_size=32, validation_split=0.2, callbacks=[early_stopping])\n"
      ]
    },
    {
      "cell_type": "markdown",
      "metadata": {
        "id": "ZYtqM2Tp3nFL"
      },
      "source": [
        "#**Step-7: Evaluate the model**"
      ]
    },
    {
      "cell_type": "code",
      "execution_count": 11,
      "metadata": {
        "colab": {
          "base_uri": "https://localhost:8080/"
        },
        "id": "dpYSV2P53vvK",
        "outputId": "da6313b1-57b9-4e84-922b-745826c354e3"
      },
      "outputs": [
        {
          "name": "stdout",
          "output_type": "stream",
          "text": [
            "6/6 [==============================] - 0s 43ms/step - loss: 0.4108 - accuracy: 0.8156\n",
            "Test accuracy: 0.8156424760818481\n"
          ]
        }
      ],
      "source": [
        "test_loss, test_accuracy = model.evaluate(X_test, y_test)\n",
        "print(f'Test accuracy: {test_accuracy}')\n"
      ]
    },
    {
      "cell_type": "markdown",
      "metadata": {
        "id": "T2RJHDLU3wzD"
      },
      "source": [
        "#**Plot training and validation Loss**"
      ]
    },
    {
      "cell_type": "code",
      "execution_count": 12,
      "metadata": {
        "colab": {
          "base_uri": "https://localhost:8080/",
          "height": 449
        },
        "id": "Dmaigftp33IO",
        "outputId": "1a4b5422-1bae-4e11-e96f-88baf7c327a8"
      },
      "outputs": [
        {
          "data": {
            "image/png": "[encoded data removed]",
            "text/plain": [
              "<Figure size 640x480 with 1 Axes>"
            ]
          },
          "metadata": {},
          "output_type": "display_data"
        }
      ],
      "source": [
        "plt.plot(history.history['loss'], label='Training Loss')\n",
        "plt.plot(history.history['val_loss'], label='Validation Loss')\n",
        "plt.xlabel('Epochs')\n",
        "plt.ylabel('Loss')\n",
        "plt.legend()\n",
        "plt.show()\n"
      ]
    },
    {
      "cell_type": "markdown",
      "metadata": {
        "id": "3GBWjb7F37s1"
      },
      "source": [
        "**Complete code**"
      ]
    },
    {
      "cell_type": "code",
      "execution_count": 18,
      "metadata": {
        "colab": {
          "base_uri": "https://localhost:8080/",
          "height": 1000
        },
        "id": "Zv-fg0NW3-Sk",
        "outputId": "2af0cd56-203d-4b97-de0c-d1e6cd248f37"
      },
      "outputs": [
        {
          "name": "stdout",
          "output_type": "stream",
          "text": [
            "Epoch 1/100\n",
            "18/18 [==============================] - 2s 46ms/step - loss: 0.6754 - accuracy: 0.5659 - val_loss: 0.5944 - val_accuracy: 0.7972\n",
            "Epoch 2/100\n",
            "18/18 [==============================] - 0s 6ms/step - loss: 0.5719 - accuracy: 0.8032 - val_loss: 0.5086 - val_accuracy: 0.8531\n",
            "Epoch 3/100\n",
            "18/18 [==============================] - 0s 5ms/step - loss: 0.5093 - accuracy: 0.8102 - val_loss: 0.4518 - val_accuracy: 0.8252\n",
            "Epoch 4/100\n",
            "18/18 [==============================] - 0s 5ms/step - loss: 0.4692 - accuracy: 0.8102 - val_loss: 0.4148 - val_accuracy: 0.8322\n",
            "Epoch 5/100\n",
            "18/18 [==============================] - 0s 5ms/step - loss: 0.4474 - accuracy: 0.8137 - val_loss: 0.3947 - val_accuracy: 0.8322\n",
            "Epoch 6/100\n",
            "18/18 [==============================] - 0s 6ms/step - loss: 0.4333 - accuracy: 0.8155 - val_loss: 0.3895 - val_accuracy: 0.8322\n",
            "Epoch 7/100\n",
            "18/18 [==============================] - 0s 5ms/step - loss: 0.4241 - accuracy: 0.8225 - val_loss: 0.3856 - val_accuracy: 0.8252\n",
            "Epoch 8/100\n",
            "18/18 [==============================] - 0s 6ms/step - loss: 0.4178 - accuracy: 0.8260 - val_loss: 0.3848 - val_accuracy: 0.8252\n",
            "Epoch 9/100\n",
            "18/18 [==============================] - 0s 5ms/step - loss: 0.4122 - accuracy: 0.8260 - val_loss: 0.3844 - val_accuracy: 0.8322\n",
            "Epoch 10/100\n",
            "18/18 [==============================] - 0s 6ms/step - loss: 0.4109 - accuracy: 0.8295 - val_loss: 0.3826 - val_accuracy: 0.8322\n",
            "Epoch 11/100\n",
            "18/18 [==============================] - 0s 6ms/step - loss: 0.4064 - accuracy: 0.8313 - val_loss: 0.3810 - val_accuracy: 0.8392\n",
            "Epoch 12/100\n",
            "18/18 [==============================] - 0s 6ms/step - loss: 0.4032 - accuracy: 0.8348 - val_loss: 0.3854 - val_accuracy: 0.8392\n",
            "Epoch 13/100\n",
            "18/18 [==============================] - 0s 6ms/step - loss: 0.3991 - accuracy: 0.8348 - val_loss: 0.3797 - val_accuracy: 0.8322\n",
            "Epoch 14/100\n",
            "18/18 [==============================] - 0s 6ms/step - loss: 0.3958 - accuracy: 0.8330 - val_loss: 0.3806 - val_accuracy: 0.8392\n",
            "Epoch 15/100\n",
            "18/18 [==============================] - 0s 5ms/step - loss: 0.3949 - accuracy: 0.8330 - val_loss: 0.3832 - val_accuracy: 0.8392\n",
            "Epoch 16/100\n",
            "18/18 [==============================] - 0s 5ms/step - loss: 0.3929 - accuracy: 0.8383 - val_loss: 0.3852 - val_accuracy: 0.8322\n",
            "Epoch 17/100\n",
            "18/18 [==============================] - 0s 5ms/step - loss: 0.3905 - accuracy: 0.8401 - val_loss: 0.3826 - val_accuracy: 0.8322\n",
            "Epoch 18/100\n",
            "18/18 [==============================] - 0s 5ms/step - loss: 0.3894 - accuracy: 0.8366 - val_loss: 0.3811 - val_accuracy: 0.8182\n",
            "Epoch 19/100\n",
            "18/18 [==============================] - 0s 5ms/step - loss: 0.3863 - accuracy: 0.8401 - val_loss: 0.3860 - val_accuracy: 0.8252\n",
            "Epoch 20/100\n",
            "18/18 [==============================] - 0s 5ms/step - loss: 0.3867 - accuracy: 0.8418 - val_loss: 0.3860 - val_accuracy: 0.8392\n",
            "Epoch 21/100\n",
            "18/18 [==============================] - 0s 6ms/step - loss: 0.3846 - accuracy: 0.8401 - val_loss: 0.3857 - val_accuracy: 0.8182\n",
            "Epoch 22/100\n",
            "18/18 [==============================] - 0s 5ms/step - loss: 0.3842 - accuracy: 0.8436 - val_loss: 0.3866 - val_accuracy: 0.8182\n",
            "Epoch 23/100\n",
            "18/18 [==============================] - 0s 6ms/step - loss: 0.3818 - accuracy: 0.8401 - val_loss: 0.3883 - val_accuracy: 0.8182\n",
            "6/6 [==============================] - 0s 38ms/step - loss: 0.4318 - accuracy: 0.8045\n",
            "Test accuracy: 0.8044692873954773\n"
          ]
        },
        {
          "data": {
            "image/png": "[encoded data removed]",
            "text/plain": [
              "<Figure size 640x480 with 1 Axes>"
            ]
          },
          "metadata": {},
          "output_type": "display_data"
        }
      ],
      "source": [
        "import pandas as pd\n",
        "from sklearn.model_selection import train_test_split\n",
        "from sklearn.preprocessing import StandardScaler, LabelEncoder\n",
        "from tensorflow.keras.models import Sequential\n",
        "from tensorflow.keras.layers import Dense\n",
        "from tensorflow.keras.callbacks import EarlyStopping\n",
        "import matplotlib.pyplot as plt\n",
        "\n",
        "# Load the dataset\n",
        "\n",
        "data = pd.read_csv('https://raw.githubusercontent.com/datasciencedojo/datasets/master/titanic.csv')\n",
        "\n",
        "# Drop unnecessary columns\n",
        "data = data.drop(columns=['PassengerId', 'Name', 'Ticket', 'Cabin'])\n",
        "\n",
        "# Handle missing values\n",
        "data['Age'].fillna(data['Age'].mean(), inplace=True)\n",
        "data['Embarked'].fillna(data['Embarked'].mode()[0], inplace=True)\n",
        "\n",
        "# Convert categorical features to numerical\n",
        "data['Sex'] = LabelEncoder().fit_transform(data['Sex'])\n",
        "data['Embarked'] = LabelEncoder().fit_transform(data['Embarked'])\n",
        "\n",
        "# Split the data into features and target\n",
        "X = data.drop(columns=['Survived'])\n",
        "y = data['Survived']\n",
        "\n",
        "# Split the data into training and testing sets\n",
        "X_train, X_test, y_train, y_test = train_test_split(X, y, test_size=0.2, random_state=42)\n",
        "\n",
        "# Standardize the features\n",
        "scaler = StandardScaler()\n",
        "X_train = scaler.fit_transform(X_train)\n",
        "X_test = scaler.transform(X_test)\n",
        "\n",
        "# Build the neural network model\n",
        "model = Sequential([\n",
        "    Dense(64, input_dim=X_train.shape[1], activation='relu'),  # First hidden layer with 64 neurons and ReLU activation\n",
        "    Dense(32, activation='relu'),                             # Second hidden layer with 32 neurons and ReLU activation\n",
        "    Dense(1, activation='sigmoid')                            # Output layer with 1 neuron and sigmoid activation for binary classification\n",
        "])\n",
        "\n",
        "# Compile the model\n",
        "model.compile(optimizer='adam',               # Use the Adam optimizer\n",
        "              loss='binary_crossentropy',     # Use binary crossentropy as the loss function\n",
        "              metrics=['accuracy'])           # Track accuracy during training\n",
        "\n",
        "# Define EarlyStopping callback\n",
        "early_stopping = EarlyStopping(monitor='val_loss', patience=10, restore_best_weights=True)\n",
        "\n",
        "# Train the model with EarlyStopping\n",
        "history = model.fit(X_train, y_train, epochs=100, batch_size=32, validation_split=0.2, callbacks=[early_stopping])\n",
        "\n",
        "# Evaluate the model\n",
        "test_loss, test_accuracy = model.evaluate(X_test, y_test)\n",
        "print(f'Test accuracy: {test_accuracy}')\n",
        "\n",
        "# Plot the training and validation loss\n",
        "plt.plot(history.history['loss'], label='Training Loss')\n",
        "plt.plot(history.history['val_loss'], label='Validation Loss')\n",
        "plt.xlabel('Epochs')\n",
        "plt.ylabel('Loss')\n",
        "plt.legend()\n",
        "plt.show()\n"
      ]
    }
  ],
  "metadata": {
    "accelerator": "GPU",
    "colab": {
      "gpuType": "T4",
      "provenance": []
    },
    "kernelspec": {
      "display_name": "Python 3",
      "name": "python3"
    },
    "language_info": {
      "name": "python"
    }
  },
  "nbformat": 4,
  "nbformat_minor": 0
}
